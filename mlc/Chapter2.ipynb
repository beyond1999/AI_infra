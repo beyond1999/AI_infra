{
 "cells": [
  {
   "cell_type": "code",
   "execution_count": 1,
   "id": "1a110411-8faf-40b6-b0ae-14fba30726cc",
   "metadata": {},
   "outputs": [
    {
     "name": "stdout",
     "output_type": "stream",
     "text": [
      "Looking in links: https://mlc.ai/wheels\n",
      "\u001b[31mERROR: Could not find a version that satisfies the requirement mlc-ai-nightly (from versions: none)\u001b[0m\u001b[31m\n",
      "\u001b[0m\u001b[31mERROR: No matching distribution found for mlc-ai-nightly\u001b[0m\u001b[31m\n",
      "\u001b[0m"
     ]
    }
   ],
   "source": [
    "!python3 -m pip install mlc-ai-nightly -f https://mlc.ai/wheels"
   ]
  },
  {
   "cell_type": "code",
   "execution_count": 1,
   "id": "c5d56c01-0e9d-4b8b-9b1a-2a369bc8f168",
   "metadata": {},
   "outputs": [
    {
     "name": "stdout",
     "output_type": "stream",
     "text": [
      "Collecting mlc-ai\n",
      "  Using cached mlc-ai-0.1.tar.gz (796 bytes)\n",
      "  Preparing metadata (setup.py) ... \u001b[?25ldone\n",
      "\u001b[?25hBuilding wheels for collected packages: mlc-ai\n",
      "\u001b[33m  DEPRECATION: Building 'mlc-ai' using the legacy setup.py bdist_wheel mechanism, which will be removed in a future version. pip 25.3 will enforce this behaviour change. A possible replacement is to use the standardized build interface by setting the `--use-pep517` option, (possibly combined with `--no-build-isolation`), or adding a `pyproject.toml` file to the source tree of 'mlc-ai'. Discussion can be found at https://github.com/pypa/pip/issues/6334\u001b[0m\u001b[33m\n",
      "\u001b[0m  Building wheel for mlc-ai (setup.py) ... \u001b[?25ldone\n",
      "\u001b[?25h  Created wheel for mlc-ai: filename=mlc_ai-0.1-py3-none-any.whl size=1326 sha256=ab07117f7fb61f3cfb75eb11a47fe18e8f8ae3788fe211baa83b1cc5c3e67460\n",
      "  Stored in directory: /Users/lixinyang/Library/Caches/pip/wheels/92/ff/ca/1f47ae3888f86574108f7a8f349fcf46089f9c46e766336ab3\n",
      "Successfully built mlc-ai\n",
      "Installing collected packages: mlc-ai\n",
      "Successfully installed mlc-ai-0.1\n",
      "Note: you may need to restart the kernel to use updated packages.\n"
     ]
    }
   ],
   "source": [
    "pip install mlc-ai\n"
   ]
  },
  {
   "cell_type": "code",
   "execution_count": 2,
   "id": "5f759303-fbe2-4701-816c-e9595ab9a0a6",
   "metadata": {
    "scrolled": true
   },
   "outputs": [
    {
     "name": "stdout",
     "output_type": "stream",
     "text": [
      "Collecting tvm\n",
      "  Using cached tvm-1.0.0.tar.gz (5.4 kB)\n",
      "  Preparing metadata (setup.py) ... \u001b[?25ldone\n",
      "\u001b[?25hCollecting appdirs (from tvm)\n",
      "  Using cached appdirs-1.4.4-py2.py3-none-any.whl.metadata (9.0 kB)\n",
      "Collecting docopt (from tvm)\n",
      "  Using cached docopt-0.6.2.tar.gz (25 kB)\n",
      "  Preparing metadata (setup.py) ... \u001b[?25ldone\n",
      "\u001b[?25hCollecting inform (from tvm)\n",
      "  Using cached inform-1.35-py3-none-any.whl.metadata (11 kB)\n",
      "Collecting quantiphy (from tvm)\n",
      "  Using cached quantiphy-2.20-py3-none-any.whl.metadata (7.7 kB)\n",
      "Requirement already satisfied: arrow in /opt/anaconda3/envs/tvm310/lib/python3.10/site-packages (from inform->tvm) (1.3.0)\n",
      "Requirement already satisfied: six in /opt/anaconda3/envs/tvm310/lib/python3.10/site-packages (from inform->tvm) (1.17.0)\n",
      "Requirement already satisfied: python-dateutil>=2.7.0 in /opt/anaconda3/envs/tvm310/lib/python3.10/site-packages (from arrow->inform->tvm) (2.9.0.post0)\n",
      "Requirement already satisfied: types-python-dateutil>=2.8.10 in /opt/anaconda3/envs/tvm310/lib/python3.10/site-packages (from arrow->inform->tvm) (2.9.0.20251008)\n",
      "Using cached appdirs-1.4.4-py2.py3-none-any.whl (9.6 kB)\n",
      "Using cached inform-1.35-py3-none-any.whl (43 kB)\n",
      "Using cached quantiphy-2.20-py3-none-any.whl (41 kB)\n",
      "Building wheels for collected packages: tvm, docopt\n",
      "\u001b[33m  DEPRECATION: Building 'tvm' using the legacy setup.py bdist_wheel mechanism, which will be removed in a future version. pip 25.3 will enforce this behaviour change. A possible replacement is to use the standardized build interface by setting the `--use-pep517` option, (possibly combined with `--no-build-isolation`), or adding a `pyproject.toml` file to the source tree of 'tvm'. Discussion can be found at https://github.com/pypa/pip/issues/6334\u001b[0m\u001b[33m\n",
      "\u001b[0m  Building wheel for tvm (setup.py) ... \u001b[?25ldone\n",
      "\u001b[?25h  Created wheel for tvm: filename=tvm-1.0.0-py3-none-any.whl size=5154 sha256=787689e0fd7c82a10caa65f0f4c9165af076722d25f550d63269af0069339dc6\n",
      "  Stored in directory: /Users/lixinyang/Library/Caches/pip/wheels/9e/31/8c/025d5271ffd5a09fa26522edb4cdbb3d532c2f254a3bbb7c40\n",
      "\u001b[33m  DEPRECATION: Building 'docopt' using the legacy setup.py bdist_wheel mechanism, which will be removed in a future version. pip 25.3 will enforce this behaviour change. A possible replacement is to use the standardized build interface by setting the `--use-pep517` option, (possibly combined with `--no-build-isolation`), or adding a `pyproject.toml` file to the source tree of 'docopt'. Discussion can be found at https://github.com/pypa/pip/issues/6334\u001b[0m\u001b[33m\n",
      "\u001b[0m  Building wheel for docopt (setup.py) ... \u001b[?25ldone\n",
      "\u001b[?25h  Created wheel for docopt: filename=docopt-0.6.2-py2.py3-none-any.whl size=13782 sha256=32be3510c83b3c33d9d151b1248565bee27112cf698743d54249c8fd2eb17b2e\n",
      "  Stored in directory: /Users/lixinyang/Library/Caches/pip/wheels/fc/ab/d4/5da2067ac95b36618c629a5f93f809425700506f72c9732fac\n",
      "Successfully built tvm docopt\n",
      "Installing collected packages: docopt, appdirs, quantiphy, inform, tvm\n",
      "\u001b[2K   \u001b[90m━━━━━━━━━━━━━━━━━━━━━━━━━━━━━━━━━━━━━━━━\u001b[0m \u001b[32m5/5\u001b[0m [tvm]\n",
      "\u001b[1A\u001b[2KSuccessfully installed appdirs-1.4.4 docopt-0.6.2 inform-1.35 quantiphy-2.20 tvm-1.0.0\n",
      "Note: you may need to restart the kernel to use updated packages.\n"
     ]
    }
   ],
   "source": [
    "pip install tvm"
   ]
  },
  {
   "cell_type": "code",
   "execution_count": 2,
   "id": "9c6991e5-c6f6-479e-8374-ae9de4af3f7d",
   "metadata": {},
   "outputs": [
    {
     "name": "stdout",
     "output_type": "stream",
     "text": [
      "Requirement already satisfied: tvm in /opt/anaconda3/envs/mlc/lib/python3.13/site-packages (1.0.0)\n",
      "Requirement already satisfied: appdirs in /opt/anaconda3/envs/mlc/lib/python3.13/site-packages (from tvm) (1.4.4)\n",
      "Requirement already satisfied: docopt in /opt/anaconda3/envs/mlc/lib/python3.13/site-packages (from tvm) (0.6.2)\n",
      "Requirement already satisfied: inform in /opt/anaconda3/envs/mlc/lib/python3.13/site-packages (from tvm) (1.35)\n",
      "Requirement already satisfied: quantiphy in /opt/anaconda3/envs/mlc/lib/python3.13/site-packages (from tvm) (2.20)\n",
      "Requirement already satisfied: arrow in /opt/anaconda3/envs/mlc/lib/python3.13/site-packages (from inform->tvm) (1.3.0)\n",
      "Requirement already satisfied: six in /opt/anaconda3/envs/mlc/lib/python3.13/site-packages (from inform->tvm) (1.17.0)\n",
      "Requirement already satisfied: python-dateutil>=2.7.0 in /opt/anaconda3/envs/mlc/lib/python3.13/site-packages (from arrow->inform->tvm) (2.9.0.post0)\n",
      "Requirement already satisfied: types-python-dateutil>=2.8.10 in /opt/anaconda3/envs/mlc/lib/python3.13/site-packages (from arrow->inform->tvm) (2.9.0.20250822)\n"
     ]
    }
   ],
   "source": [
    "import sys\n",
    "!{sys.executable} -m pip install tvm\n"
   ]
  },
  {
   "cell_type": "code",
   "execution_count": 1,
   "id": "e6de3048-d606-43c8-ba95-4a45cde9a606",
   "metadata": {},
   "outputs": [
    {
     "ename": "ModuleNotFoundError",
     "evalue": "No module named 'tvm'",
     "output_type": "error",
     "traceback": [
      "\u001b[0;31m---------------------------------------------------------------------------\u001b[0m",
      "\u001b[0;31mModuleNotFoundError\u001b[0m                       Traceback (most recent call last)",
      "Cell \u001b[0;32mIn[1], line 1\u001b[0m\n\u001b[0;32m----> 1\u001b[0m \u001b[38;5;28;01mimport\u001b[39;00m\u001b[38;5;250m \u001b[39m\u001b[38;5;21;01mtvm\u001b[39;00m\n\u001b[1;32m      2\u001b[0m \u001b[38;5;28;01mfrom\u001b[39;00m\u001b[38;5;250m \u001b[39m\u001b[38;5;21;01mtvm\u001b[39;00m\u001b[38;5;21;01m.\u001b[39;00m\u001b[38;5;21;01mir\u001b[39;00m\u001b[38;5;21;01m.\u001b[39;00m\u001b[38;5;21;01mmodule\u001b[39;00m\u001b[38;5;250m \u001b[39m\u001b[38;5;28;01mimport\u001b[39;00m IRModule\n\u001b[1;32m      3\u001b[0m \u001b[38;5;28;01mfrom\u001b[39;00m\u001b[38;5;250m \u001b[39m\u001b[38;5;21;01mtvm\u001b[39;00m\u001b[38;5;21;01m.\u001b[39;00m\u001b[38;5;21;01mscript\u001b[39;00m\u001b[38;5;250m \u001b[39m\u001b[38;5;28;01mimport\u001b[39;00m tir \u001b[38;5;28;01mas\u001b[39;00m T\n",
      "\u001b[0;31mModuleNotFoundError\u001b[0m: No module named 'tvm'"
     ]
    }
   ],
   "source": [
    "import tvm\n",
    "from tvm.ir.module import IRModule\n",
    "from tvm.script import tir as T\n",
    "import numpy as np"
   ]
  },
  {
   "cell_type": "code",
   "execution_count": null,
   "id": "d48c9041-2cbc-4814-a283-31a482328bb1",
   "metadata": {},
   "outputs": [],
   "source": [
    "@tvm.script.ir_module\n",
    "class MyModule:\n",
    "    @T.prim_func\n",
    "    def main(A: T.Buffer[(128,), \"float32\"],\n",
    "             B: T.Buffer[(128,), \"float32\"],\n",
    "             C: T.Buffer[(128,), \"float32\"]):\n",
    "        # extra annotations for the function\n",
    "        T.func_attr({\"global_symbol\": \"main\", \"tir.noalias\": True})\n",
    "        for i in range(128):\n",
    "            with T.block(\"C\"):\n",
    "                # declare a data parallel iterator on spatial domain\n",
    "                vi = T.axis.spatial(128, i)\n",
    "                C[vi] = A[vi] + B[vi]\n"
   ]
  },
  {
   "cell_type": "code",
   "execution_count": 2,
   "id": "1000f8f6-6dba-4b75-95e8-f23f7f175752",
   "metadata": {},
   "outputs": [
    {
     "name": "stdout",
     "output_type": "stream",
     "text": [
      "/opt/anaconda3/envs/tvm310/bin/python\n",
      "3.10.18 (main, Jun  5 2025, 08:37:47) [Clang 14.0.6 ]\n"
     ]
    }
   ],
   "source": [
    "import sys, site\n",
    "print(sys.executable)   # 应该指向 /opt/anaconda3/envs/mlc/bin/python...\n",
    "print(sys.version)\n"
   ]
  },
  {
   "cell_type": "code",
   "execution_count": 3,
   "id": "caf86707-2607-4245-9fe6-c398b8a50b97",
   "metadata": {},
   "outputs": [
    {
     "name": "stdout",
     "output_type": "stream",
     "text": [
      "Found existing installation: tvm 1.0.0\n",
      "Uninstalling tvm-1.0.0:\n",
      "  Successfully uninstalled tvm-1.0.0\n",
      "\u001b[33mWARNING: Skipping apache-tvm as it is not installed.\u001b[0m\u001b[33m\n",
      "\u001b[0m\u001b[33mWARNING: Skipping tvm-nightly as it is not installed.\u001b[0m\u001b[33m\n",
      "\u001b[0m"
     ]
    }
   ],
   "source": [
    "import sys\n",
    "!{sys.executable} -m pip uninstall -y tvm apache-tvm tvm-nightly\n"
   ]
  },
  {
   "cell_type": "code",
   "execution_count": null,
   "id": "3bc59f7a-8e50-4b28-870b-16dd5622ef0d",
   "metadata": {},
   "outputs": [],
   "source": []
  }
 ],
 "metadata": {
  "kernelspec": {
   "display_name": "Python (tvm310)",
   "language": "python",
   "name": "tvm310"
  },
  "language_info": {
   "codemirror_mode": {
    "name": "ipython",
    "version": 3
   },
   "file_extension": ".py",
   "mimetype": "text/x-python",
   "name": "python",
   "nbconvert_exporter": "python",
   "pygments_lexer": "ipython3",
   "version": "3.10.18"
  }
 },
 "nbformat": 4,
 "nbformat_minor": 5
}
